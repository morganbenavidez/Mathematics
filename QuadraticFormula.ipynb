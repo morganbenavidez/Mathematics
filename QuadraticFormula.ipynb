{
  "nbformat": 4,
  "nbformat_minor": 0,
  "metadata": {
    "colab": {
      "provenance": [],
      "collapsed_sections": []
    },
    "kernelspec": {
      "name": "python3",
      "display_name": "Python 3"
    },
    "language_info": {
      "name": "python"
    }
  },
  "cells": [
    {
      "cell_type": "code",
      "execution_count": 18,
      "metadata": {
        "id": "mrTTepek5A62"
      },
      "outputs": [],
      "source": [
        "import math\n",
        "\n",
        "def QuadraticFormula(coeff):\n",
        "\n",
        "  root1 = ((-coeff[1] + math.sqrt((coeff[1]**2 - (4*coeff[0]*coeff[2]))))/(2*coeff[0]))\n",
        "  root2 = ((-coeff[1] - math.sqrt((coeff[1]**2 - (4*coeff[0]*coeff[2]))))/(2*coeff[0]))\n",
        "\n",
        "  return root1, root2\n"
      ]
    },
    {
      "cell_type": "code",
      "source": [
        "coeff = [4, (3.76)*(10**-3), -.000094]\n",
        "r,s = QuadraticFormula(coeff)\n",
        "print(r)\n",
        "print(s)"
      ],
      "metadata": {
        "colab": {
          "base_uri": "https://localhost:8080/"
        },
        "id": "Y66aHpZi7rEI",
        "outputId": "d0e42278-c371-402d-a94a-6eb1ff866783"
      },
      "execution_count": 19,
      "outputs": [
        {
          "output_type": "stream",
          "name": "stdout",
          "text": [
            "0.004400410660303708\n",
            "-0.005340410660303708\n"
          ]
        }
      ]
    },
    {
      "cell_type": "code",
      "source": [
        "coeff = [1, .190, -0.08322]\n",
        "r,s = QuadraticFormula(coeff)\n",
        "print(r)\n",
        "print(s)\n",
        "print(.438-r)\n",
        "print((2*r)*4)"
      ],
      "metadata": {
        "colab": {
          "base_uri": "https://localhost:8080/"
        },
        "id": "5Gv74jTI-r5D",
        "outputId": "b8c1b8dc-5cf2-4af8-8b27-301acd438e19"
      },
      "execution_count": 34,
      "outputs": [
        {
          "output_type": "stream",
          "name": "stdout",
          "text": [
            "0.20871861977824144\n",
            "-0.3987186197782414\n",
            "0.22928138022175856\n",
            "1.6697489582259315\n"
          ]
        }
      ]
    }
  ]
}