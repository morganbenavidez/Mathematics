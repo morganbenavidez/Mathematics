{
  "nbformat": 4,
  "nbformat_minor": 0,
  "metadata": {
    "colab": {
      "name": "LaTeX.ipynb",
      "provenance": []
    },
    "kernelspec": {
      "name": "python3",
      "display_name": "Python 3"
    },
    "language_info": {
      "name": "python"
    }
  },
  "cells": [
    {
      "cell_type": "code",
      "execution_count": 1,
      "metadata": {
        "colab": {
          "base_uri": "https://localhost:8080/"
        },
        "id": "0KNUUT8z9ZOl",
        "outputId": "bdd22726-ad6e-498f-e7cc-a4204e186393"
      },
      "outputs": [
        {
          "output_type": "stream",
          "name": "stdout",
          "text": [
            "Δⁱ₀\n"
          ]
        }
      ],
      "source": [
        "from sympy.core.symbol import Symbol\n",
        "from sympy.printing.latex import LatexPrinter, print_latex\n",
        "from sympy.core.function import UndefinedFunction, Function\n",
        "import sympy\n",
        "\n",
        "delta__i_0 = sympy.symbols('Delta__i_0')\n",
        "sympy.pprint(delta__i_0)"
      ]
    },
    {
      "cell_type": "code",
      "source": [
        "import sympy as sym\n",
        "sym.init_printing()\n",
        "delta__y_l = sym.symbols('Delta__y_l')\n",
        "delta__y_l"
      ],
      "metadata": {
        "colab": {
          "base_uri": "https://localhost:8080/",
          "height": 38
        },
        "id": "jFU4VhIt9giS",
        "outputId": "b6bb9382-78c4-4f45-ef9f-b0a198e5f2a3"
      },
      "execution_count": 2,
      "outputs": [
        {
          "output_type": "execute_result",
          "data": {
            "text/plain": [
              "Δ_l__y"
            ],
            "image/png": "[encoded data removed]",
            "text/latex": "$\\displaystyle \\Delta^{y}_{l}$"
          },
          "metadata": {},
          "execution_count": 2
        }
      ]
    }
  ]
}